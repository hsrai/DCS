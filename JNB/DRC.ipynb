{
 "cells": [
  {
   "cell_type": "code",
   "execution_count": 7,
   "id": "81836870-09d6-436e-96b9-01faabf3878f",
   "metadata": {},
   "outputs": [],
   "source": [
    "import dcs_data as dcs"
   ]
  },
  {
   "cell_type": "code",
   "execution_count": 8,
   "id": "7185f6c8-605b-4f83-957c-4e232ecae5d0",
   "metadata": {},
   "outputs": [],
   "source": [
    "# Access all grades and fy values\n",
    "#print(f'Possible grades of materials\\n')\n",
    "\n",
    "# Access all grades and fck values\n",
    "#for conc_grade, f_ck in dcs.concrete_grades.items():\n",
    "#    print(f'Concrete: {conc_grade}, fy: {f_ck}')\n",
    "#for steel_grade, fy in dcs.steel_rebar_grades.items():\n",
    "#    print(f'Steel: {steel_grade}, fy: {fy}')"
   ]
  },
  {
   "cell_type": "code",
   "execution_count": 9,
   "id": "d7b3d879-ede7-4de6-b339-672996acc847",
   "metadata": {
    "scrolled": true
   },
   "outputs": [],
   "source": [
    "# Material used\n",
    "steel_grade = 'Fe 415'\n",
    "conc_grade = 'M 20'\n",
    "E_s = dcs.E_s\n",
    "\n",
    "f_y = dcs.steel_rebar_grades[steel_grade]\n",
    "#print(\"Steel used:\", f_y)\n",
    "\n",
    "f_ck = dcs.concrete_grades[conc_grade]\n",
    "#print(\"Concrete used:\", f_ck)\n",
    "\n",
    "#print(f'Steel: {steel_grade} : Concrete: {conc_grade}')\n",
    "#rint(f'\\n')\n",
    "# Access all grades and fck values\n",
    "#for conc_grade, f_ck in dcs.concrete_grades.items():\n",
    "    #print(f'Concrete: {conc_grade}, fy: {f_ck}')\n",
    "#for steel_grade, f_y in dcs.steel_rebar_grades.items():\n",
    "#    k_u = round((0.0035)/(0.0055 + (f_y / 1.15)*(1/E_s)),3)\n",
    "#    print(f'{steel_grade}\\t{k_u}')"
   ]
  },
  {
   "cell_type": "code",
   "execution_count": 10,
   "id": "f975b3ca-69ff-4ad5-80d3-e2a716b7faf0",
   "metadata": {},
   "outputs": [
    {
     "data": {
      "text/latex": [
       "\\[\n",
       "\\begin{aligned}\n",
       "f_{ck} &= 20\\ \\mathrm{MPa} \\; \n",
       " &f_{y} &= 415\\ \\mathrm{MPa} \\; \n",
       " &E_{s} &= 200\\ \\mathrm{GPa} \\; \n",
       "\\\\[10pt]\n",
       "\\end{aligned}\n",
       "\\]"
      ],
      "text/plain": [
       "<IPython.core.display.Latex object>"
      ]
     },
     "metadata": {},
     "output_type": "display_data"
    }
   ],
   "source": [
    "%%render param 0\n",
    "f_ck\n",
    "f_y\n",
    "E_s"
   ]
  },
  {
   "cell_type": "markdown",
   "id": "3e66d88d-1a17-4c42-8791-e4734857f3d6",
   "metadata": {},
   "source": [
    "$k_u = \\dfrac{x_{u,lim}}{d}$ : Ratio of $x_{u,lim}$ to the effective depth $d$."
   ]
  },
  {
   "cell_type": "code",
   "execution_count": 11,
   "id": "e3b06aae-b2c3-49fd-8b3e-65d1166fafc8",
   "metadata": {},
   "outputs": [
    {
     "data": {
      "text/latex": [
       "\\[\n",
       "\\begin{aligned}\n",
       "k_{u} &= \\frac{ 0.0035 }{ 0.0055 + \\left( \\frac{ f_{y} }{ 1.15 } \\right) \\cdot \\left( \\frac{ 1 }{ E_{s} } \\right) } \\\\&= \\frac{ 0.0035 }{ 0.0055 + \\left( \\frac{ 415.000\\ \\mathrm{MPa} }{ 1.15 } \\right) \\cdot \\left( \\frac{ 1 }{ 200.000\\ \\mathrm{GPa} } \\right) } \\\\&= 0.479  \\\\[10pt]\n",
       "\\end{aligned}\n",
       "\\]"
      ],
      "text/plain": [
       "<IPython.core.display.Latex object>"
      ]
     },
     "metadata": {},
     "output_type": "display_data"
    }
   ],
   "source": [
    "%%render\n",
    "k_u = (0.0035)/(0.0055 + (f_y / 1.15)*(1/E_s) )"
   ]
  },
  {
   "cell_type": "code",
   "execution_count": null,
   "id": "865072f5-4f8c-4a8a-809f-facacece46eb",
   "metadata": {},
   "outputs": [],
   "source": []
  }
 ],
 "metadata": {
  "kernelspec": {
   "display_name": "Python 3 (ipykernel)",
   "language": "python",
   "name": "python3"
  },
  "language_info": {
   "codemirror_mode": {
    "name": "ipython",
    "version": 3
   },
   "file_extension": ".py",
   "mimetype": "text/x-python",
   "name": "python",
   "nbconvert_exporter": "python",
   "pygments_lexer": "ipython3",
   "version": "3.10.12"
  }
 },
 "nbformat": 4,
 "nbformat_minor": 5
}
